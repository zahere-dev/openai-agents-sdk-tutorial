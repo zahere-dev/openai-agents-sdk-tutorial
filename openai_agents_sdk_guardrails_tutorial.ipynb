{
  "cells": [
    {
      "cell_type": "markdown",
      "metadata": {
        "id": "view-in-github",
        "colab_type": "text"
      },
      "source": [
        "<a href=\"https://colab.research.google.com/github/zahere-dev/openai-agents-sdk-tutorial/blob/main/openai_agents_sdk_guardrails_tutorial.ipynb\" target=\"_parent\"><img src=\"https://colab.research.google.com/assets/colab-badge.svg\" alt=\"Open In Colab\"/></a>"
      ]
    },
    {
      "cell_type": "code",
      "execution_count": null,
      "metadata": {
        "id": "Fh8K9jTjXKmR"
      },
      "outputs": [],
      "source": []
    },
    {
      "cell_type": "markdown",
      "metadata": {
        "id": "nNNLiLnlupRB"
      },
      "source": [
        "## **Imports**"
      ]
    },
    {
      "cell_type": "code",
      "execution_count": null,
      "metadata": {
        "id": "QANPSWt3X6Hy"
      },
      "outputs": [],
      "source": [
        "! pip install openai-agents nest_asyncio colorama\n"
      ]
    },
    {
      "cell_type": "code",
      "execution_count": 2,
      "metadata": {
        "id": "PqCRxsJgfmAV"
      },
      "outputs": [],
      "source": [
        "import os\n",
        "from google.colab import userdata\n",
        "import asyncio\n",
        "from agents import (\n",
        "    Agent,\n",
        "    function_tool,\n",
        "    set_default_openai_key,\n",
        "    set_tracing_disabled,\n",
        "    GuardrailFunctionOutput,\n",
        "    InputGuardrailTripwireTriggered,\n",
        "    RunContextWrapper,\n",
        "    Runner,\n",
        "    TResponseInputItem,\n",
        "    input_guardrail,\n",
        "    output_guardrail,\n",
        "    OutputGuardrailTripwireTriggered,\n",
        ")\n",
        "from colorama import Fore, Style\n",
        "from pydantic import BaseModel, Field\n",
        "\n",
        "\n",
        "set_tracing_disabled(True)\n",
        "set_default_openai_key(userdata.get(\"OPENAI_API_KEY\"))\n"
      ]
    },
    {
      "cell_type": "markdown",
      "source": [
        "## **Output Guardrail**"
      ],
      "metadata": {
        "id": "U1qs5oTIiFH8"
      }
    },
    {
      "cell_type": "code",
      "source": [
        "# The agent's output type\n",
        "class MessageOutput(BaseModel):\n",
        "    reasoning: str = Field(description=\"Thoughts on how to respond to the user's message\")\n",
        "    response: str = Field(description=\"The response to the user's message\")\n",
        "\n",
        "\n",
        "\n",
        "@output_guardrail\n",
        "async def sensitive_data_check(\n",
        "    context: RunContextWrapper, agent: Agent, output: MessageOutput\n",
        ") -> GuardrailFunctionOutput:\n",
        "    card_present_in_response = \"card\" in output.response\n",
        "    card_present_in_reasoning = \"card\" in output.reasoning\n",
        "\n",
        "    return GuardrailFunctionOutput(\n",
        "        output_info={\n",
        "            \"card_present_in_response\": card_present_in_response,\n",
        "            \"card_present_in_reasoning\": card_present_in_reasoning,\n",
        "        },\n",
        "        tripwire_triggered=card_present_in_response or card_present_in_reasoning,\n",
        "    )"
      ],
      "metadata": {
        "id": "an0lyE-LRhwq"
      },
      "execution_count": 3,
      "outputs": []
    },
    {
      "cell_type": "markdown",
      "metadata": {
        "id": "QpORJGa4t1mO"
      },
      "source": [
        "## **Order Agent**\n"
      ]
    },
    {
      "cell_type": "code",
      "execution_count": 4,
      "metadata": {
        "id": "5u3j_8JP1mg_"
      },
      "outputs": [],
      "source": [
        "import nest_asyncio # required for notebooks\n",
        "nest_asyncio.apply()\n",
        "\n",
        "@function_tool\n",
        "def check_order_status(order_id: str):\n",
        "    \"\"\"Check the status of an order with the given order ID.\"\"\"\n",
        "    order_statuses = {\n",
        "        \"12345\": \"Your order 12345 is being prepared and will be delivered in 20 minutes.\",\n",
        "        \"67890\": \"Your order 67890 has been dispatched and will arrive in 10 minutes.\",\n",
        "        \"11121\": \"Your order 11121 is still being processed. Please wait a little longer.\",\n",
        "        \"12346\": \"Your order 12346 was processed with card number 1122-1122-3334-5555\"\n",
        "    }\n",
        "    return order_statuses.get(order_id, \"Order ID not found. Please check and try again.\")\n",
        "\n",
        "order_agent = Agent(\n",
        "    name=\"OrderAgent\",\n",
        "    instructions=f\"Help customers with their order status. If they provide an order ID, fetch the status. Return the output in the specified format {MessageOutput}\",\n",
        "    tools=[check_order_status],\n",
        "    output_type=MessageOutput,\n",
        "    output_guardrails=[sensitive_data_check]\n",
        ")\n",
        "\n"
      ]
    },
    {
      "cell_type": "markdown",
      "metadata": {
        "id": "ZNpeSdGpuBbN"
      },
      "source": [
        "## **FAQ Agent**\n"
      ]
    },
    {
      "cell_type": "code",
      "execution_count": 5,
      "metadata": {
        "id": "CvqNuFJmFhHZ"
      },
      "outputs": [],
      "source": [
        "@function_tool\n",
        "def answer_faq(question: str):\n",
        "    \"\"\"Ensure the input is either hours, menu, location, contact, reservation, delivery or allergies \"\"\"\n",
        "\n",
        "    faq_responses = {\n",
        "        \"hours\": \"We are open from 10 AM to 11 PM every day.\",\n",
        "        \"menu\": \"You can find our menu at restaurant.com/menu.\",\n",
        "        \"location\": \"We are located at 123 Main Street, Cityville.\",\n",
        "        \"contact\": \"You can reach us at 555-1234 or email support@restaurant.com.\",\n",
        "        \"reservation\": \"We accept reservations online at restaurant.com/reservations or by calling 555-1234.\",\n",
        "        \"delivery\": \"We offer delivery through our website and on major food delivery platforms like Uber Eats and DoorDash.\",\n",
        "        \"allergies\": \"We accommodate allergies! Please let us know your dietary restrictions when placing an order.\"\n",
        "    }\n",
        "    return faq_responses.get(question.lower(), \"I'm not sure, but you can call our helpline at 555-1234.\")\n",
        "\n",
        "faq_agent = Agent(\n",
        "    name=\"FAQAgent\",\n",
        "    instructions=\"Answer common customer questions about hours, menu, and location.\\\n",
        "     Augment the answer based on the tone and details requested in the query \\\n",
        "     Pick up the relevant keyword from the user's query and pass that as input. \\\n",
        "     Example: If user is asking about time then the input keyword is hours.\",\n",
        "    tools=[answer_faq]\n",
        ")"
      ]
    },
    {
      "cell_type": "markdown",
      "metadata": {
        "id": "2ajUEM1WuGeR"
      },
      "source": [
        "## **Complaint Handler Agent**\n"
      ]
    },
    {
      "cell_type": "code",
      "execution_count": 6,
      "metadata": {
        "id": "BFJv8ZDfmaEe"
      },
      "outputs": [],
      "source": [
        "@function_tool\n",
        "def handle_complaint(complaint: str):\n",
        "    \"\"\"Handle customer complaints and ensure respectful communication.\"\"\"\n",
        "    return \"Thank you for your feedback. We take complaints seriously and will address your concern as soon as possible.\"\n",
        "\n",
        "complaint_agent = Agent(\n",
        "    name=\"ComplaintAgent\",\n",
        "    instructions=\"Handle customer complaints and ensure respectful communication.\",\n",
        "    tools=[handle_complaint]\n",
        ")\n",
        "\n"
      ]
    },
    {
      "cell_type": "markdown",
      "metadata": {
        "id": "qD8K6sNLuNB-"
      },
      "source": [
        "## **Reservation Agent**"
      ]
    },
    {
      "cell_type": "code",
      "execution_count": 7,
      "metadata": {
        "id": "QKrgtE1SmcBT"
      },
      "outputs": [],
      "source": [
        "@function_tool\n",
        "def handle_reservation(request: str):\n",
        "    \"\"\"Ensure the input is either make, modify, cancel or availability \"\"\"\n",
        "    reservation_responses = {\n",
        "        \"make\": \"Your reservation request has been received. Please check your email for confirmation.\",\n",
        "        \"modify\": \"Your reservation modification request has been received. Please check your email for updates.\",\n",
        "        \"cancel\": \"Your reservation has been canceled. We hope to see you another time!\",\n",
        "        \"availability\": \"We have availability for dinner slots from 6 PM to 9 PM. Please book online or call us.\"\n",
        "    }\n",
        "    return reservation_responses.get(request.lower(), \"I'm not sure about that request. Please call us at 555-1234 for assistance.\")\n",
        "\n",
        "reservation_agent = Agent(\n",
        "    name=\"ReservationAgent\",\n",
        "     instructions=\"Assist customers with making, modifying, or canceling reservations.\\\n",
        "     Pick up the relevant keyword from the user's query and pass that as input. \\\n",
        "     Example: If user is asking making a reservation then input keyword is make.\",\n",
        "    tools=[handle_reservation]\n",
        ")"
      ]
    },
    {
      "cell_type": "markdown",
      "source": [
        "## **Input Guardrail**"
      ],
      "metadata": {
        "id": "EwKfXZ4hiQmY"
      }
    },
    {
      "cell_type": "code",
      "execution_count": 8,
      "metadata": {
        "id": "_WcAxYw1o3iI"
      },
      "outputs": [],
      "source": [
        "class ImpoliteOutput(BaseModel):\n",
        "    reasoning: str\n",
        "    is_impolite: bool\n",
        "\n",
        "guardrail_agent = Agent(\n",
        "    name=\"Guardrail check\",\n",
        "    instructions=\"Check if the user is polite and not using any harsh or abusive words.\",\n",
        "    output_type=ImpoliteOutput,\n",
        ")\n",
        "\n",
        "@input_guardrail\n",
        "async def impolite_guardrail(\n",
        "    context: RunContextWrapper[None], agent: Agent, input: str | list[TResponseInputItem]\n",
        ") -> GuardrailFunctionOutput:\n",
        "    \"\"\"This is an input guardrail function, which happens to call an agent to check if the input\n",
        "    is impolite.\n",
        "    \"\"\"\n",
        "    result = await Runner.run(guardrail_agent, input, context=context.context)\n",
        "    final_output = result.final_output_as(ImpoliteOutput)\n",
        "    if final_output.is_impolite:\n",
        "      print(f\"Reasoning {final_output.reasoning}\")\n",
        "\n",
        "    return GuardrailFunctionOutput(\n",
        "        output_info=final_output,\n",
        "        tripwire_triggered=final_output.is_impolite,\n",
        "    )\n"
      ]
    },
    {
      "cell_type": "code",
      "execution_count": 9,
      "metadata": {
        "id": "zyxmU_W9ZCxp"
      },
      "outputs": [],
      "source": [
        "classifier_agent = Agent(\n",
        "    name=\"User Interface Agent\",\n",
        "    model=\"gpt-4o-mini\",\n",
        "    instructions=\"Handoff to appropriate agent based on user query\",\n",
        "    input_guardrails=[impolite_guardrail],\n",
        "    handoffs=[order_agent,faq_agent,complaint_agent,reservation_agent]\n",
        ")\n"
      ]
    },
    {
      "cell_type": "markdown",
      "metadata": {
        "id": "TAyobuShuiXI"
      },
      "source": [
        "# **Chat**"
      ]
    },
    {
      "cell_type": "code",
      "execution_count": null,
      "metadata": {
        "id": "XQhnrwfPX6IR",
        "colab": {
          "base_uri": "https://localhost:8080/"
        },
        "outputId": "cc7263c0-10e6-485c-e1ad-645e2b140a47"
      },
      "outputs": [
        {
          "output_type": "stream",
          "name": "stdout",
          "text": [
            "Welcome to the Restaurant Customer Support chat! Type 'exit' to end the chat.\n",
            "\u001b[32mYou: \u001b[0mWhy is my order delayed? You guys are pathetic\n",
            "Reasoning The user is expressing frustration and has used the term \"pathetic\" which can be considered impolite or insulting when addressing a customer service issue.\n",
            "\u001b[31mInput Guardrail tripped. Info: reasoning='The user is expressing frustration and has used the term \"pathetic\" which can be considered impolite or insulting when addressing a customer service issue.' is_impolite=True\n",
            "\u001b[31mInput Guardrail tripped. Info: Sorry, I can't help you. Please be polite.\n",
            "\u001b[32mYou: \u001b[0mWhat is the status of order 12346\n",
            "\u001b[31mOutput Guardrail tripped. Info: {'card_present_in_response': False, 'card_present_in_reasoning': True}\n"
          ]
        }
      ],
      "source": [
        "async def chat():\n",
        "    print(\"Welcome to the Restaurant Customer Support chat! Type 'exit' to end the chat.\")\n",
        "    response = \"\"\n",
        "    while True:\n",
        "        user_input = input(Fore.GREEN + \"You: \" + Style.RESET_ALL)\n",
        "        if user_input.lower() == \"exit\":\n",
        "            print(Fore.RED + \"Goodbye!\" + Style.RESET_ALL)\n",
        "            break\n",
        "\n",
        "        if response:\n",
        "          input_with_context = response.to_input_list() + [\n",
        "          {\"role\": \"user\", \"content\": user_input}\n",
        "          ]\n",
        "        else:\n",
        "          input_with_context = [{\"role\": \"user\", \"content\": user_input}]\n",
        "\n",
        "        try:\n",
        "          response = await Runner.run(classifier_agent, input=input_with_context)\n",
        "          print(Fore.BLUE + f\"Support Agent: {response.final_output}\" + Style.RESET_ALL)\n",
        "        except InputGuardrailTripwireTriggered as e:\n",
        "          message = \"Sorry, I can't help you. Please be polite.\"\n",
        "          print(Fore.RED +f\"Input Guardrail tripped. Info: {e.guardrail_result.output.output_info}\")\n",
        "          print(Fore.RED +f\"Input Guardrail tripped. Info: {message}\")\n",
        "        except OutputGuardrailTripwireTriggered as e:\n",
        "          print(Fore.RED +f\"Output Guardrail tripped. Info: {e.guardrail_result.output.output_info}\")\n",
        "\n",
        "\n",
        "\n",
        "\n",
        "\n",
        "if __name__ == \"__main__\":\n",
        "    asyncio.run(chat())\n"
      ]
    },
    {
      "cell_type": "code",
      "execution_count": null,
      "metadata": {
        "id": "6pLmnsMs4Unu"
      },
      "outputs": [],
      "source": []
    }
  ],
  "metadata": {
    "colab": {
      "provenance": [],
      "authorship_tag": "ABX9TyMZnMLMMktHLXlmftXKhGyV",
      "include_colab_link": true
    },
    "kernelspec": {
      "display_name": "Python 3",
      "name": "python3"
    },
    "language_info": {
      "name": "python"
    }
  },
  "nbformat": 4,
  "nbformat_minor": 0
}