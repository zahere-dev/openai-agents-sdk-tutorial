{
  "cells": [
    {
      "cell_type": "markdown",
      "metadata": {
        "id": "view-in-github",
        "colab_type": "text"
      },
      "source": [
        "<a href=\"https://colab.research.google.com/github/zahere-dev/openai-agents-sdk-tutorial/blob/main/openai_agents_sdk_tutorial1.ipynb\" target=\"_parent\"><img src=\"https://colab.research.google.com/assets/colab-badge.svg\" alt=\"Open In Colab\"/></a>"
      ]
    },
    {
      "cell_type": "code",
      "execution_count": null,
      "metadata": {
        "id": "Fh8K9jTjXKmR"
      },
      "outputs": [],
      "source": []
    },
    {
      "cell_type": "markdown",
      "source": [
        "## **Imports**"
      ],
      "metadata": {
        "id": "nNNLiLnlupRB"
      }
    },
    {
      "cell_type": "code",
      "execution_count": null,
      "metadata": {
        "id": "QANPSWt3X6Hy"
      },
      "outputs": [],
      "source": [
        "! pip install openai-agents nest_asyncio colorama\n"
      ]
    },
    {
      "cell_type": "code",
      "execution_count": 37,
      "metadata": {
        "id": "PqCRxsJgfmAV"
      },
      "outputs": [],
      "source": [
        "import os\n",
        "from google.colab import userdata\n",
        "import asyncio\n",
        "from agents import Agent, Runner, function_tool, set_default_openai_key, set_tracing_disabled\n",
        "from colorama import Fore, Style\n",
        "\n",
        "\n",
        "set_tracing_disabled(True)\n",
        "set_default_openai_key(userdata.get(\"OPENAI_API_KEY\"))\n"
      ]
    },
    {
      "cell_type": "markdown",
      "source": [
        "## **Order Agent**\n"
      ],
      "metadata": {
        "id": "QpORJGa4t1mO"
      }
    },
    {
      "cell_type": "code",
      "execution_count": 18,
      "metadata": {
        "id": "5u3j_8JP1mg_"
      },
      "outputs": [],
      "source": [
        "import nest_asyncio # required for notebooks\n",
        "nest_asyncio.apply()\n",
        "\n",
        "@function_tool\n",
        "def check_order_status(order_id: str):\n",
        "    \"\"\"Check the status of an order with the given order ID.\"\"\"\n",
        "    order_statuses = {\n",
        "        \"12345\": \"Your order 12345 is being prepared and will be delivered in 20 minutes.\",\n",
        "        \"67890\": \"Your order 67890 has been dispatched and will arrive in 10 minutes.\",\n",
        "        \"11121\": \"Your order 11121 is still being processed. Please wait a little longer.\"\n",
        "    }\n",
        "    return order_statuses.get(order_id, \"Order ID not found. Please check and try again.\")\n",
        "\n",
        "order_agent = Agent(\n",
        "    name=\"OrderAgent\",\n",
        "    instructions=\"Help customers with their order status. If they provide an order ID, fetch the status.\",\n",
        "    tools=[check_order_status]\n",
        ")\n",
        "\n"
      ]
    },
    {
      "cell_type": "markdown",
      "source": [
        "## **FAQ Agent**\n"
      ],
      "metadata": {
        "id": "ZNpeSdGpuBbN"
      }
    },
    {
      "cell_type": "code",
      "execution_count": 19,
      "metadata": {
        "id": "CvqNuFJmFhHZ"
      },
      "outputs": [],
      "source": [
        "@function_tool\n",
        "def answer_faq(question: str):\n",
        "    \"\"\"Ensure the input is either hours, menu, location, contact, reservation, delivery or allergies \"\"\"\n",
        "\n",
        "    faq_responses = {\n",
        "        \"hours\": \"We are open from 10 AM to 11 PM every day.\",\n",
        "        \"menu\": \"You can find our menu at restaurant.com/menu.\",\n",
        "        \"location\": \"We are located at 123 Main Street, Cityville.\",\n",
        "        \"contact\": \"You can reach us at 555-1234 or email support@restaurant.com.\",\n",
        "        \"reservation\": \"We accept reservations online at restaurant.com/reservations or by calling 555-1234.\",\n",
        "        \"delivery\": \"We offer delivery through our website and on major food delivery platforms like Uber Eats and DoorDash.\",\n",
        "        \"allergies\": \"We accommodate allergies! Please let us know your dietary restrictions when placing an order.\"\n",
        "    }\n",
        "    return faq_responses.get(question.lower(), \"I'm not sure, but you can call our helpline at 555-1234.\")\n",
        "\n",
        "faq_agent = Agent(\n",
        "    name=\"FAQAgent\",\n",
        "    instructions=\"Answer common customer questions about hours, menu, and location.\\\n",
        "     Augment the answer based on the tone and details requested in the query \\\n",
        "     Pick up the relevant keyword from the user's query and pass that as input. \\\n",
        "     Example: If user is asking about time then the input keyword is hours.\",\n",
        "    tools=[answer_faq]\n",
        ")"
      ]
    },
    {
      "cell_type": "markdown",
      "source": [
        "## **Complaint Handler Agent**\n"
      ],
      "metadata": {
        "id": "2ajUEM1WuGeR"
      }
    },
    {
      "cell_type": "code",
      "source": [
        "@function_tool\n",
        "def handle_complaint(complaint: str):\n",
        "    \"\"\"Handle customer complaints and ensure respectful communication.\"\"\"\n",
        "    return \"Thank you for your feedback. We take complaints seriously and will address your concern as soon as possible.\"\n",
        "\n",
        "complaint_agent = Agent(\n",
        "    name=\"ComplaintAgent\",\n",
        "    instructions=\"Handle customer complaints and ensure respectful communication.\",\n",
        "    tools=[handle_complaint]\n",
        ")\n",
        "\n"
      ],
      "metadata": {
        "id": "BFJv8ZDfmaEe"
      },
      "execution_count": 20,
      "outputs": []
    },
    {
      "cell_type": "markdown",
      "source": [
        "## **Reservation Agent**"
      ],
      "metadata": {
        "id": "qD8K6sNLuNB-"
      }
    },
    {
      "cell_type": "code",
      "source": [
        "@function_tool\n",
        "def handle_reservation(request: str):\n",
        "    \"\"\"Ensure the input is either make, modify, cancel or availability \"\"\"\n",
        "    reservation_responses = {\n",
        "        \"make\": \"Your reservation request has been received. Please check your email for confirmation.\",\n",
        "        \"modify\": \"Your reservation modification request has been received. Please check your email for updates.\",\n",
        "        \"cancel\": \"Your reservation has been canceled. We hope to see you another time!\",\n",
        "        \"availability\": \"We have availability for dinner slots from 6 PM to 9 PM. Please book online or call us.\"\n",
        "    }\n",
        "    return reservation_responses.get(request.lower(), \"I'm not sure about that request. Please call us at 555-1234 for assistance.\")\n",
        "\n",
        "reservation_agent = Agent(\n",
        "    name=\"ReservationAgent\",\n",
        "     instructions=\"Assist customers with making, modifying, or canceling reservations.\\\n",
        "     Pick up the relevant keyword from the user's query and pass that as input. \\\n",
        "     Example: If user is asking making a reservation then input keyword is make.\",\n",
        "    tools=[handle_reservation]\n",
        ")"
      ],
      "metadata": {
        "id": "QKrgtE1SmcBT"
      },
      "execution_count": 28,
      "outputs": []
    },
    {
      "cell_type": "code",
      "execution_count": 31,
      "metadata": {
        "id": "zyxmU_W9ZCxp"
      },
      "outputs": [],
      "source": [
        "classifier_agent = Agent(\n",
        "    name=\"User Interface Agent\",\n",
        "    model=\"gpt-4o-mini\",\n",
        "    instructions=\"Handoff to appropriate agent based on user query\",\n",
        "    handoffs=[order_agent,faq_agent,complaint_agent,reservation_agent]\n",
        ")\n"
      ]
    },
    {
      "cell_type": "markdown",
      "source": [
        "# **Chat**"
      ],
      "metadata": {
        "id": "TAyobuShuiXI"
      }
    },
    {
      "cell_type": "code",
      "execution_count": null,
      "metadata": {
        "colab": {
          "base_uri": "https://localhost:8080/"
        },
        "id": "XQhnrwfPX6IR",
        "outputId": "2e5729fb-a1e1-4e32-cb6d-b408e5c5392a"
      },
      "outputs": [
        {
          "output_type": "stream",
          "name": "stdout",
          "text": [
            "Welcome to the Restaurant Customer Support chat! Type 'exit' to end the chat.\n",
            "\u001b[32mYou: \u001b[0mWhat is the status of order 12345\n",
            "\u001b[34mSupport Agent: Your order 12345 is being prepared and will be delivered in 20 minutes.\u001b[0m\n",
            "\u001b[32mYou: \u001b[0mWhen are you guys open?\n",
            "\u001b[34mSupport Agent: We are open from 10 AM to 11 PM every day.\u001b[0m\n",
            "\u001b[32mYou: \u001b[0mI want to book a table for 2 at 2PM today\n",
            "\u001b[34mSupport Agent: Your reservation request has been received. Please check your email for confirmation.\u001b[0m\n",
            "\u001b[32mYou: \u001b[0mWhat is the status of order klsdjfklsdjf\n",
            "\u001b[34mSupport Agent: The order ID \"klsdjfklsdjf\" was not found. Please check it and try again.\u001b[0m\n",
            "\u001b[32mYou: \u001b[0m11121\n",
            "\u001b[34mSupport Agent: Your order 11121 is still being processed. Please wait a little longer.\u001b[0m\n",
            "\u001b[32mYou: \u001b[0mAre you open at 9AM?\n",
            "\u001b[34mSupport Agent: No, we open at 10 AM.\u001b[0m\n",
            "\u001b[32mYou: \u001b[0mAre you guys present in London as well?\n",
            "\u001b[34mSupport Agent: We're currently located at 123 Main Street, Cityville. London isn't one of our locations yet!\u001b[0m\n",
            "\u001b[32mYou: \u001b[0mDo you remember the time of my reservation?\n",
            "\u001b[34mSupport Agent: Yes, your reservation is for 2 PM today.\u001b[0m\n",
            "\u001b[32mYou: \u001b[0mCancell it\n",
            "\u001b[34mSupport Agent: Your reservation has been canceled. We hope to see you another time!\u001b[0m\n"
          ]
        }
      ],
      "source": [
        "async def chat():\n",
        "    print(\"Welcome to the Restaurant Customer Support chat! Type 'exit' to end the chat.\")\n",
        "    response = \"\"\n",
        "    while True:\n",
        "        user_input = input(Fore.GREEN + \"You: \" + Style.RESET_ALL)\n",
        "        if user_input.lower() == \"exit\":\n",
        "            print(Fore.RED + \"Goodbye!\" + Style.RESET_ALL)\n",
        "            break\n",
        "\n",
        "        if response:\n",
        "          input_with_context = response.to_input_list() + [\n",
        "          {\"role\": \"user\", \"content\": user_input}\n",
        "          ]\n",
        "        else:\n",
        "          input_with_context = [{\"role\": \"user\", \"content\": user_input}]\n",
        "        response = await Runner.run(classifier_agent, input=input_with_context)\n",
        "        print(Fore.BLUE + f\"Support Agent: {response.final_output}\" + Style.RESET_ALL)\n",
        "\n",
        "\n",
        "\n",
        "if __name__ == \"__main__\":\n",
        "    asyncio.run(chat())\n"
      ]
    },
    {
      "cell_type": "code",
      "source": [],
      "metadata": {
        "id": "6pLmnsMs4Unu"
      },
      "execution_count": null,
      "outputs": []
    }
  ],
  "metadata": {
    "colab": {
      "provenance": [],
      "collapsed_sections": [
        "nNNLiLnlupRB",
        "ZNpeSdGpuBbN",
        "2ajUEM1WuGeR",
        "qD8K6sNLuNB-"
      ],
      "authorship_tag": "ABX9TyNYZEVQQbNIbSUUtGjJ4zAy",
      "include_colab_link": true
    },
    "kernelspec": {
      "display_name": "Python 3",
      "name": "python3"
    },
    "language_info": {
      "name": "python"
    }
  },
  "nbformat": 4,
  "nbformat_minor": 0
}